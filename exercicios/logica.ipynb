{
 "cells": [
  {
   "cell_type": "code",
   "execution_count": 15,
   "metadata": {},
   "outputs": [
    {
     "name": "stdout",
     "output_type": "stream",
     "text": [
      "{'name': 'Jane Smith', 'age': 30}\n"
     ]
    }
   ],
   "source": [
    "users = {\n",
    "    1: {'name': 'John Doe', 'age': 25},\n",
    "    2: {'name': 'Jane Smith', 'age': 30},\n",
    "    3: {'name': 'Alice Johnson', 'age': 28}\n",
    "}\n",
    "\n",
    "def usuarios(number):\n",
    "    if number in users:\n",
    "        user = users[number]\n",
    "        print(user)\n",
    "    else:\n",
    "        print(\"Usuario não encontrado\")\n",
    "\n",
    "usuarios(2)"
   ]
  }
 ],
 "metadata": {
  "kernelspec": {
   "display_name": "Python 3",
   "language": "python",
   "name": "python3"
  },
  "language_info": {
   "codemirror_mode": {
    "name": "ipython",
    "version": 3
   },
   "file_extension": ".py",
   "mimetype": "text/x-python",
   "name": "python",
   "nbconvert_exporter": "python",
   "pygments_lexer": "ipython3",
   "version": "3.11.1"
  },
  "orig_nbformat": 4
 },
 "nbformat": 4,
 "nbformat_minor": 2
}
